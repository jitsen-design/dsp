{
 "cells": [
  {
   "cell_type": "markdown",
   "metadata": {},
   "source": [
    "#### Answers submitted by:  [Jit  Seneviratne  \n",
    "#### Date:  [12/31/2017]  \n",
    "---"
   ]
  },
  {
   "cell_type": "markdown",
   "metadata": {},
   "source": [
    "# Python Part 3:  Pandas Exercises\n",
    "---"
   ]
  },
  {
   "cell_type": "markdown",
   "metadata": {},
   "source": [
    "## Q1:  Read in the libraries you need"
   ]
  },
  {
   "cell_type": "code",
   "execution_count": 1,
   "metadata": {
    "collapsed": true
   },
   "outputs": [],
   "source": [
    "# Python 2 & 3 Compatibility\n",
    "from __future__ import print_function, division"
   ]
  },
  {
   "cell_type": "code",
   "execution_count": 2,
   "metadata": {
    "collapsed": true
   },
   "outputs": [],
   "source": [
    "# imports a library 'pandas', names it as 'pd'\n",
    "import pandas as pd\n",
    "import numpy as np\n",
    "import matplotlib.pyplot as plt\n",
    "\n",
    "from IPython.display import Image\n",
    "\n",
    "# enables inline plots, without it plots don't show up in the notebook\n",
    "%matplotlib inline"
   ]
  },
  {
   "cell_type": "markdown",
   "metadata": {},
   "source": [
    "## Q2:  Set options in pandas so it displays `max_rows` to 10"
   ]
  },
  {
   "cell_type": "code",
   "execution_count": 3,
   "metadata": {
    "collapsed": true
   },
   "outputs": [],
   "source": [
    "# set various options in pandas\n",
    "pd.set_option('display.max_columns', None)\n",
    "pd.set_option('display.max_rows', 10)\n",
    "pd.set_option('display.precision', 3)"
   ]
  },
  {
   "cell_type": "markdown",
   "metadata": {},
   "source": [
    "## Q3:  What versions of `Python` and `pandas` are you running?  \n",
    "\n"
   ]
  },
  {
   "cell_type": "code",
   "execution_count": 4,
   "metadata": {},
   "outputs": [
    {
     "name": "stdout",
     "output_type": "stream",
     "text": [
      "Pandas version: 0.20.1\n",
      "Numpy version: 1.12.1\n"
     ]
    }
   ],
   "source": [
    "print(\"Pandas version:\",pd.__version__)\n",
    "print(\"Numpy version:\",np.__version__)"
   ]
  },
  {
   "cell_type": "code",
   "execution_count": 5,
   "metadata": {},
   "outputs": [
    {
     "name": "stdout",
     "output_type": "stream",
     "text": [
      "Python Version: 3.6.1 |Anaconda 4.4.0 (x86_64)| (default, May 11 2017, 13:04:09) \n",
      "[GCC 4.2.1 Compatible Apple LLVM 6.0 (clang-600.0.57)]\n"
     ]
    }
   ],
   "source": [
    "# confirming which version of Python I am using\n",
    "import sys\n",
    "print(\"Python Version:\", sys.version)"
   ]
  },
  {
   "cell_type": "markdown",
   "metadata": {},
   "source": [
    "## Q4:  Read in the \"olive\" dataset that is available in this folder\n",
    "Description:  572 olive oil samples from 3 different regions (and 9 sub-regions) of Italy; for each sample the normalized concentrations of 8 fatty acids are given.  \n",
    "Source:  http://www2.chemie.uni-erlangen.de/publications/ANN-book/datasets/oliveoil/\n",
    "\n",
    "There are 3 regions: \n",
    "* South\n",
    "* North\n",
    "* Sardinia\n",
    "\n",
    "There are 9 sub-regions (areas): \n",
    "* North Apulia\n",
    "* South Apulia\n",
    "* Calabria\n",
    "* Sicily\n",
    "* Inland\n",
    "* Coastal Sardinia\n",
    "* Umbria\n",
    "* East\n",
    "* West Liguria\n",
    "\n",
    "Supplemental report:  http://www.public.iastate.edu/~dicook/stat503/05/cs-olive.pdf"
   ]
  },
  {
   "cell_type": "code",
   "execution_count": 6,
   "metadata": {
    "collapsed": true
   },
   "outputs": [],
   "source": [
    "# read csv data into pandas dataframe\n",
    "df = pd.read_csv('olive.csv')"
   ]
  },
  {
   "cell_type": "markdown",
   "metadata": {},
   "source": [
    "## Q5:  How many rows and columns are in this dataframe?"
   ]
  },
  {
   "cell_type": "code",
   "execution_count": 7,
   "metadata": {},
   "outputs": [
    {
     "name": "stdout",
     "output_type": "stream",
     "text": [
      "rows: 572, columns: 11\n"
     ]
    },
    {
     "data": {
      "text/plain": [
       "(572, 11)"
      ]
     },
     "execution_count": 7,
     "metadata": {},
     "output_type": "execute_result"
    }
   ],
   "source": [
    "print(\"rows: %r, columns: %r\" %(df.shape))\n",
    "df.shape"
   ]
  },
  {
   "cell_type": "markdown",
   "metadata": {},
   "source": [
    "## Q6:  Print the first 4 rows of the data"
   ]
  },
  {
   "cell_type": "code",
   "execution_count": 8,
   "metadata": {},
   "outputs": [
    {
     "name": "stdout",
     "output_type": "stream",
     "text": [
      "       Unnamed: 0  region  area  palmitic  palmitoleic  stearic  oleic  \\\n",
      "0  1.North-Apulia       1     1      1075           75      226   7823   \n",
      "1  2.North-Apulia       1     1      1088           73      224   7709   \n",
      "2  3.North-Apulia       1     1       911           54      246   8113   \n",
      "3  4.North-Apulia       1     1       966           57      240   7952   \n",
      "\n",
      "   linoleic  linolenic  arachidic  eicosenoic  \n",
      "0       672         36         60          29  \n",
      "1       781         31         61          29  \n",
      "2       549         31         63          29  \n",
      "3       619         50         78          35  \n"
     ]
    }
   ],
   "source": [
    "print(df[0:4])"
   ]
  },
  {
   "cell_type": "markdown",
   "metadata": {},
   "source": [
    "## Q7:  How many different data types are in this dataframe, and what are the data types?"
   ]
  },
  {
   "cell_type": "code",
   "execution_count": 9,
   "metadata": {},
   "outputs": [
    {
     "name": "stdout",
     "output_type": "stream",
     "text": [
      "Number of data types: 2\n"
     ]
    }
   ],
   "source": [
    "print(\"Number of data types:\",len(set(df.dtypes)))"
   ]
  },
  {
   "cell_type": "markdown",
   "metadata": {},
   "source": [
    "## Q8:  Create a new column\n",
    "### Copy the column to:  'Unnamed: 0' to 'sub_region_raw'"
   ]
  },
  {
   "cell_type": "code",
   "execution_count": 10,
   "metadata": {
    "collapsed": true
   },
   "outputs": [],
   "source": [
    "df['sub_region_raw'] = df['Unnamed: 0']"
   ]
  },
  {
   "cell_type": "markdown",
   "metadata": {},
   "source": [
    "## Q9:  Rename a column\n",
    "### 'Unnamed: 0' to:  'sub_region_desc'"
   ]
  },
  {
   "cell_type": "code",
   "execution_count": 11,
   "metadata": {
    "collapsed": true
   },
   "outputs": [],
   "source": [
    "df.rename(columns = {'Unnamed: 0':'sub_region_desc'}, inplace = True)"
   ]
  },
  {
   "cell_type": "markdown",
   "metadata": {},
   "source": [
    "## Q10:  Rename the column 'area' to:  'sub_region'"
   ]
  },
  {
   "cell_type": "code",
   "execution_count": 12,
   "metadata": {},
   "outputs": [
    {
     "data": {
      "text/html": [
       "<div>\n",
       "<style>\n",
       "    .dataframe thead tr:only-child th {\n",
       "        text-align: right;\n",
       "    }\n",
       "\n",
       "    .dataframe thead th {\n",
       "        text-align: left;\n",
       "    }\n",
       "\n",
       "    .dataframe tbody tr th {\n",
       "        vertical-align: top;\n",
       "    }\n",
       "</style>\n",
       "<table border=\"1\" class=\"dataframe\">\n",
       "  <thead>\n",
       "    <tr style=\"text-align: right;\">\n",
       "      <th></th>\n",
       "      <th>sub_region_desc</th>\n",
       "      <th>region</th>\n",
       "      <th>sub_region</th>\n",
       "      <th>palmitic</th>\n",
       "      <th>palmitoleic</th>\n",
       "      <th>stearic</th>\n",
       "      <th>oleic</th>\n",
       "      <th>linoleic</th>\n",
       "      <th>linolenic</th>\n",
       "      <th>arachidic</th>\n",
       "      <th>eicosenoic</th>\n",
       "      <th>sub_region_raw</th>\n",
       "    </tr>\n",
       "  </thead>\n",
       "  <tbody>\n",
       "    <tr>\n",
       "      <th>0</th>\n",
       "      <td>1.North-Apulia</td>\n",
       "      <td>1</td>\n",
       "      <td>1</td>\n",
       "      <td>1075</td>\n",
       "      <td>75</td>\n",
       "      <td>226</td>\n",
       "      <td>7823</td>\n",
       "      <td>672</td>\n",
       "      <td>36</td>\n",
       "      <td>60</td>\n",
       "      <td>29</td>\n",
       "      <td>1.North-Apulia</td>\n",
       "    </tr>\n",
       "    <tr>\n",
       "      <th>1</th>\n",
       "      <td>2.North-Apulia</td>\n",
       "      <td>1</td>\n",
       "      <td>1</td>\n",
       "      <td>1088</td>\n",
       "      <td>73</td>\n",
       "      <td>224</td>\n",
       "      <td>7709</td>\n",
       "      <td>781</td>\n",
       "      <td>31</td>\n",
       "      <td>61</td>\n",
       "      <td>29</td>\n",
       "      <td>2.North-Apulia</td>\n",
       "    </tr>\n",
       "    <tr>\n",
       "      <th>2</th>\n",
       "      <td>3.North-Apulia</td>\n",
       "      <td>1</td>\n",
       "      <td>1</td>\n",
       "      <td>911</td>\n",
       "      <td>54</td>\n",
       "      <td>246</td>\n",
       "      <td>8113</td>\n",
       "      <td>549</td>\n",
       "      <td>31</td>\n",
       "      <td>63</td>\n",
       "      <td>29</td>\n",
       "      <td>3.North-Apulia</td>\n",
       "    </tr>\n",
       "    <tr>\n",
       "      <th>3</th>\n",
       "      <td>4.North-Apulia</td>\n",
       "      <td>1</td>\n",
       "      <td>1</td>\n",
       "      <td>966</td>\n",
       "      <td>57</td>\n",
       "      <td>240</td>\n",
       "      <td>7952</td>\n",
       "      <td>619</td>\n",
       "      <td>50</td>\n",
       "      <td>78</td>\n",
       "      <td>35</td>\n",
       "      <td>4.North-Apulia</td>\n",
       "    </tr>\n",
       "    <tr>\n",
       "      <th>4</th>\n",
       "      <td>5.North-Apulia</td>\n",
       "      <td>1</td>\n",
       "      <td>1</td>\n",
       "      <td>1051</td>\n",
       "      <td>67</td>\n",
       "      <td>259</td>\n",
       "      <td>7771</td>\n",
       "      <td>672</td>\n",
       "      <td>50</td>\n",
       "      <td>80</td>\n",
       "      <td>46</td>\n",
       "      <td>5.North-Apulia</td>\n",
       "    </tr>\n",
       "    <tr>\n",
       "      <th>...</th>\n",
       "      <td>...</td>\n",
       "      <td>...</td>\n",
       "      <td>...</td>\n",
       "      <td>...</td>\n",
       "      <td>...</td>\n",
       "      <td>...</td>\n",
       "      <td>...</td>\n",
       "      <td>...</td>\n",
       "      <td>...</td>\n",
       "      <td>...</td>\n",
       "      <td>...</td>\n",
       "      <td>...</td>\n",
       "    </tr>\n",
       "    <tr>\n",
       "      <th>567</th>\n",
       "      <td>568.West-Liguria</td>\n",
       "      <td>3</td>\n",
       "      <td>8</td>\n",
       "      <td>1280</td>\n",
       "      <td>110</td>\n",
       "      <td>290</td>\n",
       "      <td>7490</td>\n",
       "      <td>790</td>\n",
       "      <td>10</td>\n",
       "      <td>10</td>\n",
       "      <td>2</td>\n",
       "      <td>568.West-Liguria</td>\n",
       "    </tr>\n",
       "    <tr>\n",
       "      <th>568</th>\n",
       "      <td>569.West-Liguria</td>\n",
       "      <td>3</td>\n",
       "      <td>8</td>\n",
       "      <td>1060</td>\n",
       "      <td>100</td>\n",
       "      <td>270</td>\n",
       "      <td>7740</td>\n",
       "      <td>810</td>\n",
       "      <td>10</td>\n",
       "      <td>10</td>\n",
       "      <td>3</td>\n",
       "      <td>569.West-Liguria</td>\n",
       "    </tr>\n",
       "    <tr>\n",
       "      <th>569</th>\n",
       "      <td>570.West-Liguria</td>\n",
       "      <td>3</td>\n",
       "      <td>8</td>\n",
       "      <td>1010</td>\n",
       "      <td>90</td>\n",
       "      <td>210</td>\n",
       "      <td>7720</td>\n",
       "      <td>970</td>\n",
       "      <td>0</td>\n",
       "      <td>0</td>\n",
       "      <td>2</td>\n",
       "      <td>570.West-Liguria</td>\n",
       "    </tr>\n",
       "    <tr>\n",
       "      <th>570</th>\n",
       "      <td>571.West-Liguria</td>\n",
       "      <td>3</td>\n",
       "      <td>8</td>\n",
       "      <td>990</td>\n",
       "      <td>120</td>\n",
       "      <td>250</td>\n",
       "      <td>7750</td>\n",
       "      <td>870</td>\n",
       "      <td>10</td>\n",
       "      <td>10</td>\n",
       "      <td>2</td>\n",
       "      <td>571.West-Liguria</td>\n",
       "    </tr>\n",
       "    <tr>\n",
       "      <th>571</th>\n",
       "      <td>572.West-Liguria</td>\n",
       "      <td>3</td>\n",
       "      <td>8</td>\n",
       "      <td>960</td>\n",
       "      <td>80</td>\n",
       "      <td>240</td>\n",
       "      <td>7950</td>\n",
       "      <td>740</td>\n",
       "      <td>10</td>\n",
       "      <td>20</td>\n",
       "      <td>2</td>\n",
       "      <td>572.West-Liguria</td>\n",
       "    </tr>\n",
       "  </tbody>\n",
       "</table>\n",
       "<p>572 rows × 12 columns</p>\n",
       "</div>"
      ],
      "text/plain": [
       "      sub_region_desc  region  sub_region  palmitic  palmitoleic  stearic  \\\n",
       "0      1.North-Apulia       1           1      1075           75      226   \n",
       "1      2.North-Apulia       1           1      1088           73      224   \n",
       "2      3.North-Apulia       1           1       911           54      246   \n",
       "3      4.North-Apulia       1           1       966           57      240   \n",
       "4      5.North-Apulia       1           1      1051           67      259   \n",
       "..                ...     ...         ...       ...          ...      ...   \n",
       "567  568.West-Liguria       3           8      1280          110      290   \n",
       "568  569.West-Liguria       3           8      1060          100      270   \n",
       "569  570.West-Liguria       3           8      1010           90      210   \n",
       "570  571.West-Liguria       3           8       990          120      250   \n",
       "571  572.West-Liguria       3           8       960           80      240   \n",
       "\n",
       "     oleic  linoleic  linolenic  arachidic  eicosenoic    sub_region_raw  \n",
       "0     7823       672         36         60          29    1.North-Apulia  \n",
       "1     7709       781         31         61          29    2.North-Apulia  \n",
       "2     8113       549         31         63          29    3.North-Apulia  \n",
       "3     7952       619         50         78          35    4.North-Apulia  \n",
       "4     7771       672         50         80          46    5.North-Apulia  \n",
       "..     ...       ...        ...        ...         ...               ...  \n",
       "567   7490       790         10         10           2  568.West-Liguria  \n",
       "568   7740       810         10         10           3  569.West-Liguria  \n",
       "569   7720       970          0          0           2  570.West-Liguria  \n",
       "570   7750       870         10         10           2  571.West-Liguria  \n",
       "571   7950       740         10         20           2  572.West-Liguria  \n",
       "\n",
       "[572 rows x 12 columns]"
      ]
     },
     "execution_count": 12,
     "metadata": {},
     "output_type": "execute_result"
    }
   ],
   "source": [
    "df.rename(columns = {'area':'sub_region'}, inplace = True)\n",
    "df"
   ]
  },
  {
   "cell_type": "markdown",
   "metadata": {},
   "source": [
    "## Q11:  How many unique values of 'region' are there?\n",
    "\n",
    "Hint:  the answer should be 3"
   ]
  },
  {
   "cell_type": "code",
   "execution_count": 13,
   "metadata": {},
   "outputs": [
    {
     "name": "stdout",
     "output_type": "stream",
     "text": [
      "# of unique Regions: 3\n"
     ]
    }
   ],
   "source": [
    "print(\"# of unique Regions:\", len(set(df['region'])))"
   ]
  },
  {
   "cell_type": "markdown",
   "metadata": {},
   "source": [
    "## Q12:  How many unique values of 'sub_region' are there?\n",
    "\n",
    "Hint:  the answer should be 9"
   ]
  },
  {
   "cell_type": "code",
   "execution_count": 14,
   "metadata": {},
   "outputs": [
    {
     "name": "stdout",
     "output_type": "stream",
     "text": [
      "# of unique sub regions: 9\n"
     ]
    }
   ],
   "source": [
    " print(\"# of unique sub regions:\", len(set(df['sub_region'])))"
   ]
  },
  {
   "cell_type": "markdown",
   "metadata": {},
   "source": [
    "## Q13:  How many unique values of 'sub_region_desc' are there?\n",
    "Hint:  we would like the answer to be 9, but here's where we run into some messy data"
   ]
  },
  {
   "cell_type": "code",
   "execution_count": 15,
   "metadata": {},
   "outputs": [
    {
     "name": "stdout",
     "output_type": "stream",
     "text": [
      "# of unique sub region descriptions: 572\n"
     ]
    }
   ],
   "source": [
    "print(\"# of unique sub region descriptions:\", len(set(df['sub_region_desc'])))"
   ]
  },
  {
   "cell_type": "markdown",
   "metadata": {},
   "source": [
    "## Q14:  Looks like 'sub_region_desc' has line numbers attached to the beginning of region name.  We need to do some data cleaning.  Can you remove them?  \n",
    "```\n",
    " \tregion \tsub_region \tpalmitic \tpalmitoleic \tstearic \toleic \tlinoleic \tlinolenic \tarachidic \teicosenoic \tsub_region_raw\n",
    "sub_region_desc \t\t\t\t\t\t\t\t\t\t\t\n",
    "1.North-Apulia \t1 \t1 \t1 \t1 \t1 \t1 \t1 \t1 \t1 \t1 \t1\n",
    "10.North-Apulia \t1 \t1 \t1 \t1 \t1 \t1 \t1 \t1 \t1 \t1 \t1\n",
    "100.South-Apulia \t1 \t1 \t1 \t1 \t1 \t1 \t1 \t1 \t1 \t1 \t1\n",
    "101.South-Apulia \t1 \t1 \t1 \t1 \t1 \t1 \t1 \t1 \t1 \t1 \t1\n",
    "102.South-Apulia \t1 \t1 \t1 \t1 \t1 \t1 \t1 \t1 \t1 \t1 \t1\n",
    "```\n",
    "\n",
    "Hint:  check out this link\n",
    "http://stackoverflow.com/questions/39583264/pandas-strip-numbers-and-parenthesis-from-string\n",
    " "
   ]
  },
  {
   "cell_type": "code",
   "execution_count": 16,
   "metadata": {
    "collapsed": true
   },
   "outputs": [],
   "source": [
    "df.sub_region_desc.replace(regex = True, inplace=True, to_replace = r'[d\\d\\d.]',value=r'')\n"
   ]
  },
  {
   "cell_type": "code",
   "execution_count": 17,
   "metadata": {
    "collapsed": true
   },
   "outputs": [],
   "source": [
    "#df.head()"
   ]
  },
  {
   "cell_type": "code",
   "execution_count": null,
   "metadata": {
    "collapsed": true
   },
   "outputs": [],
   "source": []
  },
  {
   "cell_type": "code",
   "execution_count": null,
   "metadata": {
    "collapsed": true
   },
   "outputs": [],
   "source": [
    " "
   ]
  },
  {
   "cell_type": "code",
   "execution_count": 18,
   "metadata": {
    "collapsed": true
   },
   "outputs": [],
   "source": [
    "#df.head()"
   ]
  },
  {
   "cell_type": "code",
   "execution_count": null,
   "metadata": {
    "collapsed": true
   },
   "outputs": [],
   "source": [
    " "
   ]
  },
  {
   "cell_type": "code",
   "execution_count": 19,
   "metadata": {
    "collapsed": true
   },
   "outputs": [],
   "source": [
    "#df.head()"
   ]
  },
  {
   "cell_type": "markdown",
   "metadata": {},
   "source": [
    "## Q15:  Try again:  How many unique values of 'sub_region_desc' are there?\n",
    "\n",
    "Hint:  you should see 9 of them!"
   ]
  },
  {
   "cell_type": "code",
   "execution_count": 20,
   "metadata": {},
   "outputs": [
    {
     "data": {
      "text/plain": [
       "array(['North-Apulia', 'Calabria', 'South-Apulia', 'Sicily',\n",
       "       'Inlan-Sarinia', 'Coast-Sarinia', 'Umbria', 'East-Liguria',\n",
       "       'West-Liguria'], \n",
       "      dtype='<U13')"
      ]
     },
     "execution_count": 20,
     "metadata": {},
     "output_type": "execute_result"
    }
   ],
   "source": [
    "srd_unique = df.sub_region_desc.unique().astype('str')\n",
    "srd_unique"
   ]
  },
  {
   "cell_type": "markdown",
   "metadata": {},
   "source": [
    "## Q16:   Create a horizontal frequency barplot for 'region'"
   ]
  },
  {
   "cell_type": "code",
   "execution_count": 21,
   "metadata": {},
   "outputs": [
    {
     "data": {
      "image/png": "[encoded data removed]",
      "text/plain": [
       "<matplotlib.figure.Figure at 0x11286e908>"
      ]
     },
     "metadata": {},
     "output_type": "display_data"
    }
   ],
   "source": [
    "df['region'].value_counts().plot(kind = 'barh', figsize = (6,3), legend = True,)\n",
    "plt.ylabel('Region')\n",
    "plt.xlabel('Counts')\n",
    "plt.title('Frequency of Samples by Region')\n",
    "plt.yticks(range(df['region'].nunique()), df['region'].unique());"
   ]
  },
  {
   "cell_type": "markdown",
   "metadata": {},
   "source": [
    "## Q17:   Create a horizontal frequency barplot for 'sub_region'"
   ]
  },
  {
   "cell_type": "code",
   "execution_count": 22,
   "metadata": {},
   "outputs": [
    {
     "data": {
      "image/png": "[encoded data removed]",
      "text/plain": [
       "<matplotlib.figure.Figure at 0x115c05518>"
      ]
     },
     "metadata": {},
     "output_type": "display_data"
    }
   ],
   "source": [
    "df['sub_region'].value_counts().plot(kind = 'barh', figsize = (10,5), legend = True,)\n",
    "plt.ylabel('Sub Region')\n",
    "plt.xlabel('Counts')\n",
    "plt.title('Frequency of Samples by Sub-Region')\n",
    "plt.yticks(range(df['sub_region'].nunique()), df['sub_region'].unique());\n"
   ]
  },
  {
   "cell_type": "markdown",
   "metadata": {},
   "source": [
    "## Q18:   Create a horizontal frequency barplot for 'sub_region_desc'"
   ]
  },
  {
   "cell_type": "code",
   "execution_count": 23,
   "metadata": {},
   "outputs": [
    {
     "data": {
      "image/png": "[encoded data removed]",
      "text/plain": [
       "<matplotlib.figure.Figure at 0x115dc0cc0>"
      ]
     },
     "metadata": {},
     "output_type": "display_data"
    }
   ],
   "source": [
    "df['sub_region_desc'].value_counts().plot(kind = 'barh', figsize = (10,5), legend = True,)\n",
    "plt.ylabel('Sub Region Description')\n",
    "plt.xlabel('Counts')\n",
    "plt.title('Frequency of Samples by Sub-Region Description')\n",
    "plt.yticks(range(df['sub_region_desc'].nunique()), df['sub_region_desc'].unique());"
   ]
  },
  {
   "cell_type": "code",
   "execution_count": null,
   "metadata": {
    "collapsed": true
   },
   "outputs": [],
   "source": []
  }
 ],
 "metadata": {
  "anaconda-cloud": {},
  "kernelspec": {
   "display_name": "Python 3",
   "language": "python",
   "name": "python3"
  },
  "language_info": {
   "codemirror_mode": {
    "name": "ipython",
    "version": 3
   },
   "file_extension": ".py",
   "mimetype": "text/x-python",
   "name": "python",
   "nbconvert_exporter": "python",
   "pygments_lexer": "ipython3",
   "version": "3.6.1"
  }
 },
 "nbformat": 4,
 "nbformat_minor": 1
}
